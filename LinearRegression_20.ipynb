{
  "cells": [
    {
      "cell_type": "markdown",
      "metadata": {
        "id": "YUzKaLSqdeHW"
      },
      "source": [
        "# Basic imports for linear regression\n",
        "##### import numpy as np\n",
        "##### import pandas as pd\n",
        "##### from sklearn import datasets\n",
        "##### from sklearn.preprocessing import MinMaxScaler // for normalization\n",
        "##### from sklearn.preprocessing import StandardScaler // for Standradization\n",
        "##### from sklearn.model_selection import train_test_split\n",
        "##### from sklearn.linear_model import LinearRegression\n",
        "##### from sklearn.metrics import mean_squared_error\n",
        "##### from sklearn.metrics import r2_score"
      ]
    },
    {
      "cell_type": "code",
      "execution_count": 1,
      "metadata": {
        "id": "2Xj8Pfd_f8_q"
      },
      "outputs": [],
      "source": [
        "import numpy as np\n",
        "import pandas as pd\n",
        "from sklearn import datasets\n",
        "from sklearn.preprocessing import MinMaxScaler\n",
        "from sklearn.model_selection import train_test_split\n",
        "from sklearn.linear_model import LinearRegression\n",
        "from sklearn.metrics import mean_squared_error\n",
        "from sklearn.metrics import r2_score"
      ]
    },
    {
      "cell_type": "markdown",
      "metadata": {
        "id": "VHKQeYR0gXK3"
      },
      "source": [
        "# import diabetes dataset"
      ]
    },
    {
      "cell_type": "code",
      "execution_count": 2,
      "metadata": {
        "id": "igo8LY51gAZY"
      },
      "outputs": [],
      "source": [
        "pdiabetes = datasets.load_diabetes()\n",
        "x= pdiabetes.data\n",
        "y= pdiabetes.target"
      ]
    },
    {
      "cell_type": "markdown",
      "metadata": {
        "id": "uVnIgB_bgn1v"
      },
      "source": [
        "# convert to dataframe"
      ]
    },
    {
      "cell_type": "code",
      "execution_count": 3,
      "metadata": {
        "id": "LEN0CwnGgaFU"
      },
      "outputs": [],
      "source": [
        "df_x=pd.DataFrame(data=x,columns=pdiabetes.feature_names)"
      ]
    },
    {
      "cell_type": "code",
      "execution_count": 4,
      "metadata": {
        "id": "0tlgN1K5lTRs"
      },
      "outputs": [],
      "source": [
        "df_y=pd.DataFrame(data=y,columns=[\"label\"])"
      ]
    },
    {
      "cell_type": "markdown",
      "metadata": {
        "id": "zHWcdoCOgrRv"
      },
      "source": [
        "#display data"
      ]
    },
    {
      "cell_type": "code",
      "execution_count": 5,
      "metadata": {
        "colab": {
          "base_uri": "https://localhost:8080/",
          "height": 206
        },
        "id": "OS9o4ezSgs6G",
        "outputId": "c6c2125f-44d3-4533-cf6b-e28c896f4ef3"
      },
      "outputs": [
        {
          "data": {
            "text/html": [
              "<div>\n",
              "<style scoped>\n",
              "    .dataframe tbody tr th:only-of-type {\n",
              "        vertical-align: middle;\n",
              "    }\n",
              "\n",
              "    .dataframe tbody tr th {\n",
              "        vertical-align: top;\n",
              "    }\n",
              "\n",
              "    .dataframe thead th {\n",
              "        text-align: right;\n",
              "    }\n",
              "</style>\n",
              "<table border=\"1\" class=\"dataframe\">\n",
              "  <thead>\n",
              "    <tr style=\"text-align: right;\">\n",
              "      <th></th>\n",
              "      <th>age</th>\n",
              "      <th>sex</th>\n",
              "      <th>bmi</th>\n",
              "      <th>bp</th>\n",
              "      <th>s1</th>\n",
              "      <th>s2</th>\n",
              "      <th>s3</th>\n",
              "      <th>s4</th>\n",
              "      <th>s5</th>\n",
              "      <th>s6</th>\n",
              "    </tr>\n",
              "  </thead>\n",
              "  <tbody>\n",
              "    <tr>\n",
              "      <th>0</th>\n",
              "      <td>0.038076</td>\n",
              "      <td>0.050680</td>\n",
              "      <td>0.061696</td>\n",
              "      <td>0.021872</td>\n",
              "      <td>-0.044223</td>\n",
              "      <td>-0.034821</td>\n",
              "      <td>-0.043401</td>\n",
              "      <td>-0.002592</td>\n",
              "      <td>0.019907</td>\n",
              "      <td>-0.017646</td>\n",
              "    </tr>\n",
              "    <tr>\n",
              "      <th>1</th>\n",
              "      <td>-0.001882</td>\n",
              "      <td>-0.044642</td>\n",
              "      <td>-0.051474</td>\n",
              "      <td>-0.026328</td>\n",
              "      <td>-0.008449</td>\n",
              "      <td>-0.019163</td>\n",
              "      <td>0.074412</td>\n",
              "      <td>-0.039493</td>\n",
              "      <td>-0.068332</td>\n",
              "      <td>-0.092204</td>\n",
              "    </tr>\n",
              "    <tr>\n",
              "      <th>2</th>\n",
              "      <td>0.085299</td>\n",
              "      <td>0.050680</td>\n",
              "      <td>0.044451</td>\n",
              "      <td>-0.005670</td>\n",
              "      <td>-0.045599</td>\n",
              "      <td>-0.034194</td>\n",
              "      <td>-0.032356</td>\n",
              "      <td>-0.002592</td>\n",
              "      <td>0.002861</td>\n",
              "      <td>-0.025930</td>\n",
              "    </tr>\n",
              "    <tr>\n",
              "      <th>3</th>\n",
              "      <td>-0.089063</td>\n",
              "      <td>-0.044642</td>\n",
              "      <td>-0.011595</td>\n",
              "      <td>-0.036656</td>\n",
              "      <td>0.012191</td>\n",
              "      <td>0.024991</td>\n",
              "      <td>-0.036038</td>\n",
              "      <td>0.034309</td>\n",
              "      <td>0.022688</td>\n",
              "      <td>-0.009362</td>\n",
              "    </tr>\n",
              "    <tr>\n",
              "      <th>4</th>\n",
              "      <td>0.005383</td>\n",
              "      <td>-0.044642</td>\n",
              "      <td>-0.036385</td>\n",
              "      <td>0.021872</td>\n",
              "      <td>0.003935</td>\n",
              "      <td>0.015596</td>\n",
              "      <td>0.008142</td>\n",
              "      <td>-0.002592</td>\n",
              "      <td>-0.031988</td>\n",
              "      <td>-0.046641</td>\n",
              "    </tr>\n",
              "  </tbody>\n",
              "</table>\n",
              "</div>"
            ],
            "text/plain": [
              "        age       sex       bmi        bp        s1        s2        s3   \n",
              "0  0.038076  0.050680  0.061696  0.021872 -0.044223 -0.034821 -0.043401  \\\n",
              "1 -0.001882 -0.044642 -0.051474 -0.026328 -0.008449 -0.019163  0.074412   \n",
              "2  0.085299  0.050680  0.044451 -0.005670 -0.045599 -0.034194 -0.032356   \n",
              "3 -0.089063 -0.044642 -0.011595 -0.036656  0.012191  0.024991 -0.036038   \n",
              "4  0.005383 -0.044642 -0.036385  0.021872  0.003935  0.015596  0.008142   \n",
              "\n",
              "         s4        s5        s6  \n",
              "0 -0.002592  0.019907 -0.017646  \n",
              "1 -0.039493 -0.068332 -0.092204  \n",
              "2 -0.002592  0.002861 -0.025930  \n",
              "3  0.034309  0.022688 -0.009362  \n",
              "4 -0.002592 -0.031988 -0.046641  "
            ]
          },
          "execution_count": 5,
          "metadata": {},
          "output_type": "execute_result"
        }
      ],
      "source": [
        "df_x.head()"
      ]
    },
    {
      "cell_type": "code",
      "execution_count": 6,
      "metadata": {
        "colab": {
          "base_uri": "https://localhost:8080/",
          "height": 206
        },
        "id": "idwyL45vl0p8",
        "outputId": "111de418-7396-4d54-bd4c-9a528d852cb9"
      },
      "outputs": [
        {
          "data": {
            "text/html": [
              "<div>\n",
              "<style scoped>\n",
              "    .dataframe tbody tr th:only-of-type {\n",
              "        vertical-align: middle;\n",
              "    }\n",
              "\n",
              "    .dataframe tbody tr th {\n",
              "        vertical-align: top;\n",
              "    }\n",
              "\n",
              "    .dataframe thead th {\n",
              "        text-align: right;\n",
              "    }\n",
              "</style>\n",
              "<table border=\"1\" class=\"dataframe\">\n",
              "  <thead>\n",
              "    <tr style=\"text-align: right;\">\n",
              "      <th></th>\n",
              "      <th>label</th>\n",
              "    </tr>\n",
              "  </thead>\n",
              "  <tbody>\n",
              "    <tr>\n",
              "      <th>0</th>\n",
              "      <td>151.0</td>\n",
              "    </tr>\n",
              "    <tr>\n",
              "      <th>1</th>\n",
              "      <td>75.0</td>\n",
              "    </tr>\n",
              "    <tr>\n",
              "      <th>2</th>\n",
              "      <td>141.0</td>\n",
              "    </tr>\n",
              "    <tr>\n",
              "      <th>3</th>\n",
              "      <td>206.0</td>\n",
              "    </tr>\n",
              "    <tr>\n",
              "      <th>4</th>\n",
              "      <td>135.0</td>\n",
              "    </tr>\n",
              "  </tbody>\n",
              "</table>\n",
              "</div>"
            ],
            "text/plain": [
              "   label\n",
              "0  151.0\n",
              "1   75.0\n",
              "2  141.0\n",
              "3  206.0\n",
              "4  135.0"
            ]
          },
          "execution_count": 6,
          "metadata": {},
          "output_type": "execute_result"
        }
      ],
      "source": [
        "df_y.head()"
      ]
    },
    {
      "cell_type": "markdown",
      "metadata": {
        "id": "-79j0rT8hPUn"
      },
      "source": [
        "#preprocessing\n",
        "##### it is done to process and sort the data in a particular range.\n",
        "### 2 types: 1. Normalization min_max scaling 2. Standardization\n",
        "\n",
        "## Xscaled = (X1 - Xmin)/(Xmax - Xmin)\n",
        "## standradization (X-μ)/σ"
      ]
    },
    {
      "cell_type": "code",
      "execution_count": 7,
      "metadata": {
        "id": "bxJiwH7NhR7i"
      },
      "outputs": [],
      "source": [
        "Scaler = MinMaxScaler()\n",
        "x_scaler = Scaler.fit_transform(x)\n",
        "x_scaler=pd.DataFrame(data=x_scaler,columns=pdiabetes.feature_names)"
      ]
    },
    {
      "cell_type": "markdown",
      "metadata": {
        "id": "lQiW-xX5ki42"
      },
      "source": [
        "#display"
      ]
    },
    {
      "cell_type": "code",
      "execution_count": 8,
      "metadata": {
        "colab": {
          "base_uri": "https://localhost:8080/",
          "height": 206
        },
        "id": "9yviVASMkmQz",
        "outputId": "7463a97d-4aa5-434c-9228-73949ec35d13"
      },
      "outputs": [
        {
          "data": {
            "text/html": [
              "<div>\n",
              "<style scoped>\n",
              "    .dataframe tbody tr th:only-of-type {\n",
              "        vertical-align: middle;\n",
              "    }\n",
              "\n",
              "    .dataframe tbody tr th {\n",
              "        vertical-align: top;\n",
              "    }\n",
              "\n",
              "    .dataframe thead th {\n",
              "        text-align: right;\n",
              "    }\n",
              "</style>\n",
              "<table border=\"1\" class=\"dataframe\">\n",
              "  <thead>\n",
              "    <tr style=\"text-align: right;\">\n",
              "      <th></th>\n",
              "      <th>age</th>\n",
              "      <th>sex</th>\n",
              "      <th>bmi</th>\n",
              "      <th>bp</th>\n",
              "      <th>s1</th>\n",
              "      <th>s2</th>\n",
              "      <th>s3</th>\n",
              "      <th>s4</th>\n",
              "      <th>s5</th>\n",
              "      <th>s6</th>\n",
              "    </tr>\n",
              "  </thead>\n",
              "  <tbody>\n",
              "    <tr>\n",
              "      <th>0</th>\n",
              "      <td>0.666667</td>\n",
              "      <td>1.0</td>\n",
              "      <td>0.582645</td>\n",
              "      <td>0.549296</td>\n",
              "      <td>0.294118</td>\n",
              "      <td>0.256972</td>\n",
              "      <td>0.207792</td>\n",
              "      <td>0.282087</td>\n",
              "      <td>0.562217</td>\n",
              "      <td>0.439394</td>\n",
              "    </tr>\n",
              "    <tr>\n",
              "      <th>1</th>\n",
              "      <td>0.483333</td>\n",
              "      <td>0.0</td>\n",
              "      <td>0.148760</td>\n",
              "      <td>0.352113</td>\n",
              "      <td>0.421569</td>\n",
              "      <td>0.306773</td>\n",
              "      <td>0.623377</td>\n",
              "      <td>0.141044</td>\n",
              "      <td>0.222437</td>\n",
              "      <td>0.166667</td>\n",
              "    </tr>\n",
              "    <tr>\n",
              "      <th>2</th>\n",
              "      <td>0.883333</td>\n",
              "      <td>1.0</td>\n",
              "      <td>0.516529</td>\n",
              "      <td>0.436620</td>\n",
              "      <td>0.289216</td>\n",
              "      <td>0.258964</td>\n",
              "      <td>0.246753</td>\n",
              "      <td>0.282087</td>\n",
              "      <td>0.496578</td>\n",
              "      <td>0.409091</td>\n",
              "    </tr>\n",
              "    <tr>\n",
              "      <th>3</th>\n",
              "      <td>0.083333</td>\n",
              "      <td>0.0</td>\n",
              "      <td>0.301653</td>\n",
              "      <td>0.309859</td>\n",
              "      <td>0.495098</td>\n",
              "      <td>0.447211</td>\n",
              "      <td>0.233766</td>\n",
              "      <td>0.423131</td>\n",
              "      <td>0.572923</td>\n",
              "      <td>0.469697</td>\n",
              "    </tr>\n",
              "    <tr>\n",
              "      <th>4</th>\n",
              "      <td>0.516667</td>\n",
              "      <td>0.0</td>\n",
              "      <td>0.206612</td>\n",
              "      <td>0.549296</td>\n",
              "      <td>0.465686</td>\n",
              "      <td>0.417331</td>\n",
              "      <td>0.389610</td>\n",
              "      <td>0.282087</td>\n",
              "      <td>0.362385</td>\n",
              "      <td>0.333333</td>\n",
              "    </tr>\n",
              "  </tbody>\n",
              "</table>\n",
              "</div>"
            ],
            "text/plain": [
              "        age  sex       bmi        bp        s1        s2        s3        s4   \n",
              "0  0.666667  1.0  0.582645  0.549296  0.294118  0.256972  0.207792  0.282087  \\\n",
              "1  0.483333  0.0  0.148760  0.352113  0.421569  0.306773  0.623377  0.141044   \n",
              "2  0.883333  1.0  0.516529  0.436620  0.289216  0.258964  0.246753  0.282087   \n",
              "3  0.083333  0.0  0.301653  0.309859  0.495098  0.447211  0.233766  0.423131   \n",
              "4  0.516667  0.0  0.206612  0.549296  0.465686  0.417331  0.389610  0.282087   \n",
              "\n",
              "         s5        s6  \n",
              "0  0.562217  0.439394  \n",
              "1  0.222437  0.166667  \n",
              "2  0.496578  0.409091  \n",
              "3  0.572923  0.469697  \n",
              "4  0.362385  0.333333  "
            ]
          },
          "execution_count": 8,
          "metadata": {},
          "output_type": "execute_result"
        }
      ],
      "source": [
        "x_scaler.head()"
      ]
    },
    {
      "cell_type": "markdown",
      "metadata": {
        "id": "laZX3_bwklvi"
      },
      "source": [
        "# trainig testing data split\n",
        "### test_size means the ratio of training and testing data\n",
        "### random_state=42; here 42 is the seed variable which is used to generate randomness based on this data cells are selected and by changing this sets can be changed and based on that models can be changed and the accuracy will be changed"
      ]
    },
    {
      "cell_type": "code",
      "execution_count": 9,
      "metadata": {
        "id": "9sBKxrSzk7hY"
      },
      "outputs": [],
      "source": [
        "x_train,x_test,y_train,y_test = train_test_split(x_scaler,df_y,test_size=0.3,random_state=42)"
      ]
    },
    {
      "cell_type": "markdown",
      "metadata": {
        "id": "0rWH3OflmEJU"
      },
      "source": [
        "#display"
      ]
    },
    {
      "cell_type": "code",
      "execution_count": 10,
      "metadata": {
        "colab": {
          "base_uri": "https://localhost:8080/",
          "height": 206
        },
        "id": "_2CJz8RumGHk",
        "outputId": "2d54ea41-f1c6-47d8-8983-ecb557ded77f"
      },
      "outputs": [
        {
          "data": {
            "text/html": [
              "<div>\n",
              "<style scoped>\n",
              "    .dataframe tbody tr th:only-of-type {\n",
              "        vertical-align: middle;\n",
              "    }\n",
              "\n",
              "    .dataframe tbody tr th {\n",
              "        vertical-align: top;\n",
              "    }\n",
              "\n",
              "    .dataframe thead th {\n",
              "        text-align: right;\n",
              "    }\n",
              "</style>\n",
              "<table border=\"1\" class=\"dataframe\">\n",
              "  <thead>\n",
              "    <tr style=\"text-align: right;\">\n",
              "      <th></th>\n",
              "      <th>age</th>\n",
              "      <th>sex</th>\n",
              "      <th>bmi</th>\n",
              "      <th>bp</th>\n",
              "      <th>s1</th>\n",
              "      <th>s2</th>\n",
              "      <th>s3</th>\n",
              "      <th>s4</th>\n",
              "      <th>s5</th>\n",
              "      <th>s6</th>\n",
              "    </tr>\n",
              "  </thead>\n",
              "  <tbody>\n",
              "    <tr>\n",
              "      <th>225</th>\n",
              "      <td>0.633333</td>\n",
              "      <td>1.0</td>\n",
              "      <td>0.471074</td>\n",
              "      <td>0.661972</td>\n",
              "      <td>0.308824</td>\n",
              "      <td>0.229084</td>\n",
              "      <td>0.116883</td>\n",
              "      <td>0.423131</td>\n",
              "      <td>0.728211</td>\n",
              "      <td>0.515152</td>\n",
              "    </tr>\n",
              "    <tr>\n",
              "      <th>412</th>\n",
              "      <td>0.833333</td>\n",
              "      <td>0.0</td>\n",
              "      <td>0.673554</td>\n",
              "      <td>0.718310</td>\n",
              "      <td>0.504902</td>\n",
              "      <td>0.409363</td>\n",
              "      <td>0.415584</td>\n",
              "      <td>0.282087</td>\n",
              "      <td>0.509460</td>\n",
              "      <td>0.818182</td>\n",
              "    </tr>\n",
              "    <tr>\n",
              "      <th>118</th>\n",
              "      <td>0.233333</td>\n",
              "      <td>1.0</td>\n",
              "      <td>0.305785</td>\n",
              "      <td>0.563380</td>\n",
              "      <td>0.534314</td>\n",
              "      <td>0.495020</td>\n",
              "      <td>0.220779</td>\n",
              "      <td>0.423131</td>\n",
              "      <td>0.564920</td>\n",
              "      <td>0.712121</td>\n",
              "    </tr>\n",
              "    <tr>\n",
              "      <th>114</th>\n",
              "      <td>0.600000</td>\n",
              "      <td>0.0</td>\n",
              "      <td>0.768595</td>\n",
              "      <td>0.718310</td>\n",
              "      <td>0.500000</td>\n",
              "      <td>0.262948</td>\n",
              "      <td>0.272727</td>\n",
              "      <td>0.370945</td>\n",
              "      <td>0.867703</td>\n",
              "      <td>0.590909</td>\n",
              "    </tr>\n",
              "    <tr>\n",
              "      <th>364</th>\n",
              "      <td>0.500000</td>\n",
              "      <td>1.0</td>\n",
              "      <td>0.322314</td>\n",
              "      <td>0.380282</td>\n",
              "      <td>0.416667</td>\n",
              "      <td>0.383466</td>\n",
              "      <td>0.220779</td>\n",
              "      <td>0.423131</td>\n",
              "      <td>0.542630</td>\n",
              "      <td>0.863636</td>\n",
              "    </tr>\n",
              "  </tbody>\n",
              "</table>\n",
              "</div>"
            ],
            "text/plain": [
              "          age  sex       bmi        bp        s1        s2        s3   \n",
              "225  0.633333  1.0  0.471074  0.661972  0.308824  0.229084  0.116883  \\\n",
              "412  0.833333  0.0  0.673554  0.718310  0.504902  0.409363  0.415584   \n",
              "118  0.233333  1.0  0.305785  0.563380  0.534314  0.495020  0.220779   \n",
              "114  0.600000  0.0  0.768595  0.718310  0.500000  0.262948  0.272727   \n",
              "364  0.500000  1.0  0.322314  0.380282  0.416667  0.383466  0.220779   \n",
              "\n",
              "           s4        s5        s6  \n",
              "225  0.423131  0.728211  0.515152  \n",
              "412  0.282087  0.509460  0.818182  \n",
              "118  0.423131  0.564920  0.712121  \n",
              "114  0.370945  0.867703  0.590909  \n",
              "364  0.423131  0.542630  0.863636  "
            ]
          },
          "execution_count": 10,
          "metadata": {},
          "output_type": "execute_result"
        }
      ],
      "source": [
        "x_train.head()"
      ]
    },
    {
      "cell_type": "code",
      "execution_count": 11,
      "metadata": {
        "colab": {
          "base_uri": "https://localhost:8080/",
          "height": 206
        },
        "id": "9fxQmYjbmM9J",
        "outputId": "aa44c967-3dc6-4306-eabf-a70b84f427ce"
      },
      "outputs": [
        {
          "data": {
            "text/html": [
              "<div>\n",
              "<style scoped>\n",
              "    .dataframe tbody tr th:only-of-type {\n",
              "        vertical-align: middle;\n",
              "    }\n",
              "\n",
              "    .dataframe tbody tr th {\n",
              "        vertical-align: top;\n",
              "    }\n",
              "\n",
              "    .dataframe thead th {\n",
              "        text-align: right;\n",
              "    }\n",
              "</style>\n",
              "<table border=\"1\" class=\"dataframe\">\n",
              "  <thead>\n",
              "    <tr style=\"text-align: right;\">\n",
              "      <th></th>\n",
              "      <th>label</th>\n",
              "    </tr>\n",
              "  </thead>\n",
              "  <tbody>\n",
              "    <tr>\n",
              "      <th>225</th>\n",
              "      <td>208.0</td>\n",
              "    </tr>\n",
              "    <tr>\n",
              "      <th>412</th>\n",
              "      <td>261.0</td>\n",
              "    </tr>\n",
              "    <tr>\n",
              "      <th>118</th>\n",
              "      <td>179.0</td>\n",
              "    </tr>\n",
              "    <tr>\n",
              "      <th>114</th>\n",
              "      <td>258.0</td>\n",
              "    </tr>\n",
              "    <tr>\n",
              "      <th>364</th>\n",
              "      <td>262.0</td>\n",
              "    </tr>\n",
              "  </tbody>\n",
              "</table>\n",
              "</div>"
            ],
            "text/plain": [
              "     label\n",
              "225  208.0\n",
              "412  261.0\n",
              "118  179.0\n",
              "114  258.0\n",
              "364  262.0"
            ]
          },
          "execution_count": 11,
          "metadata": {},
          "output_type": "execute_result"
        }
      ],
      "source": [
        "y_train.head()"
      ]
    },
    {
      "cell_type": "code",
      "execution_count": 12,
      "metadata": {
        "colab": {
          "base_uri": "https://localhost:8080/",
          "height": 206
        },
        "id": "MN8m6rKwmSbx",
        "outputId": "367ed67b-963d-459e-b39f-88664404b8ea"
      },
      "outputs": [
        {
          "data": {
            "text/html": [
              "<div>\n",
              "<style scoped>\n",
              "    .dataframe tbody tr th:only-of-type {\n",
              "        vertical-align: middle;\n",
              "    }\n",
              "\n",
              "    .dataframe tbody tr th {\n",
              "        vertical-align: top;\n",
              "    }\n",
              "\n",
              "    .dataframe thead th {\n",
              "        text-align: right;\n",
              "    }\n",
              "</style>\n",
              "<table border=\"1\" class=\"dataframe\">\n",
              "  <thead>\n",
              "    <tr style=\"text-align: right;\">\n",
              "      <th></th>\n",
              "      <th>age</th>\n",
              "      <th>sex</th>\n",
              "      <th>bmi</th>\n",
              "      <th>bp</th>\n",
              "      <th>s1</th>\n",
              "      <th>s2</th>\n",
              "      <th>s3</th>\n",
              "      <th>s4</th>\n",
              "      <th>s5</th>\n",
              "      <th>s6</th>\n",
              "    </tr>\n",
              "  </thead>\n",
              "  <tbody>\n",
              "    <tr>\n",
              "      <th>287</th>\n",
              "      <td>0.700000</td>\n",
              "      <td>0.0</td>\n",
              "      <td>0.322314</td>\n",
              "      <td>0.394366</td>\n",
              "      <td>0.897059</td>\n",
              "      <td>0.765936</td>\n",
              "      <td>0.428571</td>\n",
              "      <td>0.423131</td>\n",
              "      <td>0.610446</td>\n",
              "      <td>0.484848</td>\n",
              "    </tr>\n",
              "    <tr>\n",
              "      <th>211</th>\n",
              "      <td>0.916667</td>\n",
              "      <td>0.0</td>\n",
              "      <td>0.487603</td>\n",
              "      <td>0.549296</td>\n",
              "      <td>0.362745</td>\n",
              "      <td>0.314741</td>\n",
              "      <td>0.363636</td>\n",
              "      <td>0.141044</td>\n",
              "      <td>0.398856</td>\n",
              "      <td>0.424242</td>\n",
              "    </tr>\n",
              "    <tr>\n",
              "      <th>72</th>\n",
              "      <td>0.783333</td>\n",
              "      <td>1.0</td>\n",
              "      <td>0.330579</td>\n",
              "      <td>0.408451</td>\n",
              "      <td>0.818627</td>\n",
              "      <td>0.522908</td>\n",
              "      <td>0.558442</td>\n",
              "      <td>0.282087</td>\n",
              "      <td>0.810909</td>\n",
              "      <td>0.439394</td>\n",
              "    </tr>\n",
              "    <tr>\n",
              "      <th>321</th>\n",
              "      <td>0.933333</td>\n",
              "      <td>0.0</td>\n",
              "      <td>0.545455</td>\n",
              "      <td>0.784085</td>\n",
              "      <td>0.647059</td>\n",
              "      <td>0.484064</td>\n",
              "      <td>0.090909</td>\n",
              "      <td>0.832158</td>\n",
              "      <td>0.865422</td>\n",
              "      <td>0.727273</td>\n",
              "    </tr>\n",
              "    <tr>\n",
              "      <th>73</th>\n",
              "      <td>0.550000</td>\n",
              "      <td>1.0</td>\n",
              "      <td>0.268595</td>\n",
              "      <td>0.450704</td>\n",
              "      <td>0.588235</td>\n",
              "      <td>0.536853</td>\n",
              "      <td>0.337662</td>\n",
              "      <td>0.423131</td>\n",
              "      <td>0.465759</td>\n",
              "      <td>0.469697</td>\n",
              "    </tr>\n",
              "  </tbody>\n",
              "</table>\n",
              "</div>"
            ],
            "text/plain": [
              "          age  sex       bmi        bp        s1        s2        s3   \n",
              "287  0.700000  0.0  0.322314  0.394366  0.897059  0.765936  0.428571  \\\n",
              "211  0.916667  0.0  0.487603  0.549296  0.362745  0.314741  0.363636   \n",
              "72   0.783333  1.0  0.330579  0.408451  0.818627  0.522908  0.558442   \n",
              "321  0.933333  0.0  0.545455  0.784085  0.647059  0.484064  0.090909   \n",
              "73   0.550000  1.0  0.268595  0.450704  0.588235  0.536853  0.337662   \n",
              "\n",
              "           s4        s5        s6  \n",
              "287  0.423131  0.610446  0.484848  \n",
              "211  0.141044  0.398856  0.424242  \n",
              "72   0.282087  0.810909  0.439394  \n",
              "321  0.832158  0.865422  0.727273  \n",
              "73   0.423131  0.465759  0.469697  "
            ]
          },
          "execution_count": 12,
          "metadata": {},
          "output_type": "execute_result"
        }
      ],
      "source": [
        "x_test.head()"
      ]
    },
    {
      "cell_type": "code",
      "execution_count": 13,
      "metadata": {
        "colab": {
          "base_uri": "https://localhost:8080/",
          "height": 206
        },
        "id": "0TO5wjv3mVlb",
        "outputId": "a721ba19-0783-4144-c785-36a0ceb32324"
      },
      "outputs": [
        {
          "data": {
            "text/html": [
              "<div>\n",
              "<style scoped>\n",
              "    .dataframe tbody tr th:only-of-type {\n",
              "        vertical-align: middle;\n",
              "    }\n",
              "\n",
              "    .dataframe tbody tr th {\n",
              "        vertical-align: top;\n",
              "    }\n",
              "\n",
              "    .dataframe thead th {\n",
              "        text-align: right;\n",
              "    }\n",
              "</style>\n",
              "<table border=\"1\" class=\"dataframe\">\n",
              "  <thead>\n",
              "    <tr style=\"text-align: right;\">\n",
              "      <th></th>\n",
              "      <th>label</th>\n",
              "    </tr>\n",
              "  </thead>\n",
              "  <tbody>\n",
              "    <tr>\n",
              "      <th>287</th>\n",
              "      <td>219.0</td>\n",
              "    </tr>\n",
              "    <tr>\n",
              "      <th>211</th>\n",
              "      <td>70.0</td>\n",
              "    </tr>\n",
              "    <tr>\n",
              "      <th>72</th>\n",
              "      <td>202.0</td>\n",
              "    </tr>\n",
              "    <tr>\n",
              "      <th>321</th>\n",
              "      <td>230.0</td>\n",
              "    </tr>\n",
              "    <tr>\n",
              "      <th>73</th>\n",
              "      <td>111.0</td>\n",
              "    </tr>\n",
              "  </tbody>\n",
              "</table>\n",
              "</div>"
            ],
            "text/plain": [
              "     label\n",
              "287  219.0\n",
              "211   70.0\n",
              "72   202.0\n",
              "321  230.0\n",
              "73   111.0"
            ]
          },
          "execution_count": 13,
          "metadata": {},
          "output_type": "execute_result"
        }
      ],
      "source": [
        "y_test.head()"
      ]
    },
    {
      "cell_type": "markdown",
      "metadata": {
        "id": "53nOiwuZoves"
      },
      "source": [
        "#performing the linear regression"
      ]
    },
    {
      "cell_type": "code",
      "execution_count": 14,
      "metadata": {
        "id": "DuYe3WRfo2-u"
      },
      "outputs": [],
      "source": [
        "classifier = LinearRegression() # instance\n",
        "model=classifier.fit(x_train, y_train)"
      ]
    },
    {
      "cell_type": "markdown",
      "metadata": {
        "id": "1yYYvJolpPCU"
      },
      "source": [
        "#viewing the model"
      ]
    },
    {
      "cell_type": "code",
      "execution_count": 15,
      "metadata": {
        "colab": {
          "base_uri": "https://localhost:8080/"
        },
        "id": "CFlTnLtNpR0Z",
        "outputId": "6de0c0f4-013a-415a-e327-ee7de8b64e2c"
      },
      "outputs": [
        {
          "data": {
            "text/plain": [
              "{'copy_X': True, 'fit_intercept': True, 'n_jobs': None, 'positive': False}"
            ]
          },
          "execution_count": 15,
          "metadata": {},
          "output_type": "execute_result"
        }
      ],
      "source": [
        "model.get_params()"
      ]
    },
    {
      "cell_type": "markdown",
      "metadata": {
        "id": "oH0V3a8EqJfT"
      },
      "source": [
        "#print coefficient"
      ]
    },
    {
      "cell_type": "code",
      "execution_count": 16,
      "metadata": {
        "colab": {
          "base_uri": "https://localhost:8080/"
        },
        "id": "5njG_j1rqMIf",
        "outputId": "17b1d3e4-3fd5-437e-f87d-9b230ea7d892"
      },
      "outputs": [
        {
          "name": "stdout",
          "output_type": "stream",
          "text": [
            "[[   6.37597963  -24.94631999  142.49164186   94.94103001 -253.17501262\n",
            "   159.32689804   34.34557573   75.35836358  171.20845644   11.31152349]]\n"
          ]
        }
      ],
      "source": [
        "print(model.coef_)"
      ]
    },
    {
      "cell_type": "markdown",
      "metadata": {
        "id": "oO4xy5k6qodx"
      },
      "source": [
        "#prediction"
      ]
    },
    {
      "cell_type": "code",
      "execution_count": 17,
      "metadata": {
        "id": "k4fusPoLqcvt"
      },
      "outputs": [],
      "source": [
        "y_predict = model.predict(x_test)"
      ]
    },
    {
      "cell_type": "markdown",
      "metadata": {
        "id": "0JKiEDTvrO_S"
      },
      "source": [
        "#display predict"
      ]
    },
    {
      "cell_type": "code",
      "execution_count": 18,
      "metadata": {
        "colab": {
          "base_uri": "https://localhost:8080/",
          "height": 206
        },
        "id": "YnV-W2mYrS6Z",
        "outputId": "02dc8b12-bf54-4f32-c507-a2c8322f04c4"
      },
      "outputs": [
        {
          "data": {
            "text/html": [
              "<div>\n",
              "<style scoped>\n",
              "    .dataframe tbody tr th:only-of-type {\n",
              "        vertical-align: middle;\n",
              "    }\n",
              "\n",
              "    .dataframe tbody tr th {\n",
              "        vertical-align: top;\n",
              "    }\n",
              "\n",
              "    .dataframe thead th {\n",
              "        text-align: right;\n",
              "    }\n",
              "</style>\n",
              "<table border=\"1\" class=\"dataframe\">\n",
              "  <thead>\n",
              "    <tr style=\"text-align: right;\">\n",
              "      <th></th>\n",
              "      <th>0</th>\n",
              "    </tr>\n",
              "  </thead>\n",
              "  <tbody>\n",
              "    <tr>\n",
              "      <th>0</th>\n",
              "      <td>138.469700</td>\n",
              "    </tr>\n",
              "    <tr>\n",
              "      <th>1</th>\n",
              "      <td>181.100523</td>\n",
              "    </tr>\n",
              "    <tr>\n",
              "      <th>2</th>\n",
              "      <td>125.344009</td>\n",
              "    </tr>\n",
              "    <tr>\n",
              "      <th>3</th>\n",
              "      <td>292.759773</td>\n",
              "    </tr>\n",
              "    <tr>\n",
              "      <th>4</th>\n",
              "      <td>123.883053</td>\n",
              "    </tr>\n",
              "  </tbody>\n",
              "</table>\n",
              "</div>"
            ],
            "text/plain": [
              "            0\n",
              "0  138.469700\n",
              "1  181.100523\n",
              "2  125.344009\n",
              "3  292.759773\n",
              "4  123.883053"
            ]
          },
          "execution_count": 18,
          "metadata": {},
          "output_type": "execute_result"
        }
      ],
      "source": [
        "pd.DataFrame(y_predict).head()"
      ]
    },
    {
      "cell_type": "markdown",
      "metadata": {
        "id": "tI6fxsXIrp5j"
      },
      "source": [
        "#determining mse"
      ]
    },
    {
      "cell_type": "code",
      "execution_count": 19,
      "metadata": {
        "id": "ik_glZZerxCc"
      },
      "outputs": [],
      "source": [
        "mse = mean_squared_error(y_test, y_predict)"
      ]
    },
    {
      "cell_type": "markdown",
      "metadata": {
        "id": "2X9cZL1XthoB"
      },
      "source": [
        "#display mse"
      ]
    },
    {
      "cell_type": "code",
      "execution_count": 20,
      "metadata": {
        "colab": {
          "base_uri": "https://localhost:8080/"
        },
        "id": "CiCPgHbNtjop",
        "outputId": "8b525902-c684-4bfb-9dbd-da0e94c2ddcc"
      },
      "outputs": [
        {
          "name": "stdout",
          "output_type": "stream",
          "text": [
            "2821.750981001311\n"
          ]
        }
      ],
      "source": [
        "print(mse)"
      ]
    },
    {
      "cell_type": "markdown",
      "metadata": {
        "id": "718MNE4iuw1n"
      },
      "source": [
        "#determining rmse"
      ]
    },
    {
      "cell_type": "code",
      "execution_count": 21,
      "metadata": {
        "id": "RK5OmgpYu0Rw"
      },
      "outputs": [],
      "source": [
        "rmse = mean_squared_error(y_test, y_predict , squared=False)"
      ]
    },
    {
      "cell_type": "markdown",
      "metadata": {
        "id": "vNx7UYWlvBMo"
      },
      "source": [
        "#display"
      ]
    },
    {
      "cell_type": "code",
      "execution_count": 22,
      "metadata": {
        "colab": {
          "base_uri": "https://localhost:8080/"
        },
        "id": "MD0dgTuFvC0H",
        "outputId": "67aeff0f-e6ba-4ec3-88ed-494eb5582e48"
      },
      "outputs": [
        {
          "data": {
            "text/plain": [
              "53.120156070942706"
            ]
          },
          "execution_count": 22,
          "metadata": {},
          "output_type": "execute_result"
        }
      ],
      "source": [
        "rmse"
      ]
    },
    {
      "cell_type": "markdown",
      "metadata": {
        "id": "W73F8XNVsfOu"
      },
      "source": [
        "#determing R2Score"
      ]
    },
    {
      "cell_type": "code",
      "execution_count": 23,
      "metadata": {
        "id": "9mmFHIkysesR"
      },
      "outputs": [],
      "source": [
        "r2 = r2_score(y_test, y_predict)"
      ]
    },
    {
      "cell_type": "markdown",
      "metadata": {
        "id": "FTasSthhs8Qi"
      },
      "source": [
        "#display r2"
      ]
    },
    {
      "cell_type": "code",
      "execution_count": 24,
      "metadata": {
        "colab": {
          "base_uri": "https://localhost:8080/"
        },
        "id": "4m_cXfHAs-Sb",
        "outputId": "80868d18-cff5-4f16-a27b-c9e3215830cd"
      },
      "outputs": [
        {
          "name": "stdout",
          "output_type": "stream",
          "text": [
            "0.4772897164322617\n"
          ]
        }
      ],
      "source": [
        "print(r2)"
      ]
    }
  ],
  "metadata": {
    "colab": {
      "provenance": [],
      "toc_visible": true
    },
    "kernelspec": {
      "display_name": "Python 3",
      "name": "python3"
    },
    "language_info": {
      "codemirror_mode": {
        "name": "ipython",
        "version": 3
      },
      "file_extension": ".py",
      "mimetype": "text/x-python",
      "name": "python",
      "nbconvert_exporter": "python",
      "pygments_lexer": "ipython3",
      "version": "3.10.11"
    }
  },
  "nbformat": 4,
  "nbformat_minor": 0
}

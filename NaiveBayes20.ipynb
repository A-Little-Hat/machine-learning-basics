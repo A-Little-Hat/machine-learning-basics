{
  "cells": [
    {
      "cell_type": "markdown",
      "source": [
        "# Naive Bayes Classification"
      ],
      "metadata": {
        "id": "B-4Q_7Q5P21b"
      }
    },
    {
      "cell_type": "markdown",
      "source": [
        "## Questions\n",
        "Implement Naive Bayes classifier upon the Iris data set.\n",
        "Apart from this, perform the following:\n",
        "1. Statistically analyze the data-set. Visualize the distribution of the columns containing quantitative values using box-plots.\n",
        "2. Create at least three combinations of feature-sets from the original feature-set. Evaluate the accuracy of the Naive Bayes Classifier upon each feature-set. Visualize the comparison of accuracy using suitable plots.\n",
        "3. Does removal of features improve accuracy? If yes, then how? Give one practical application where removal of features might be required? (This is subjective question. Provide your answer in the text cell of your notebook.)"
      ],
      "metadata": {
        "id": "gppZn23oP-e9"
      }
    },
    {
      "cell_type": "markdown",
      "source": [
        "# Imports"
      ],
      "metadata": {
        "id": "r-2-XbARQJbR"
      }
    },
    {
      "cell_type": "code",
      "execution_count": 27,
      "metadata": {
        "id": "ovyagW3YFH3E"
      },
      "outputs": [],
      "source": [
        "from sklearn.datasets import load_iris\n",
        "from sklearn.model_selection import train_test_split\n",
        "from sklearn.naive_bayes import GaussianNB\n",
        "import pandas as pd\n",
        "from sklearn.metrics import accuracy_score\n",
        "from sklearn.preprocessing import StandardScaler"
      ]
    },
    {
      "cell_type": "markdown",
      "source": [
        "# Dataset import"
      ],
      "metadata": {
        "id": "hDnkP8IDQLUH"
      }
    },
    {
      "cell_type": "code",
      "execution_count": 28,
      "metadata": {
        "colab": {
          "base_uri": "https://localhost:8080/"
        },
        "id": "DYXbduRQFH3H",
        "outputId": "dd0dc1ae-f41e-4e74-f471-980ab01cf51b"
      },
      "outputs": [
        {
          "output_type": "stream",
          "name": "stdout",
          "text": [
            ".. _iris_dataset:\n",
            "\n",
            "Iris plants dataset\n",
            "--------------------\n",
            "\n",
            "**Data Set Characteristics:**\n",
            "\n",
            "    :Number of Instances: 150 (50 in each of three classes)\n",
            "    :Number of Attributes: 4 numeric, predictive attributes and the class\n",
            "    :Attribute Information:\n",
            "        - sepal length in cm\n",
            "        - sepal width in cm\n",
            "        - petal length in cm\n",
            "        - petal width in cm\n",
            "        - class:\n",
            "                - Iris-Setosa\n",
            "                - Iris-Versicolour\n",
            "                - Iris-Virginica\n",
            "                \n",
            "    :Summary Statistics:\n",
            "\n",
            "    ============== ==== ==== ======= ===== ====================\n",
            "                    Min  Max   Mean    SD   Class Correlation\n",
            "    ============== ==== ==== ======= ===== ====================\n",
            "    sepal length:   4.3  7.9   5.84   0.83    0.7826\n",
            "    sepal width:    2.0  4.4   3.05   0.43   -0.4194\n",
            "    petal length:   1.0  6.9   3.76   1.76    0.9490  (high!)\n",
            "    petal width:    0.1  2.5   1.20   0.76    0.9565  (high!)\n",
            "    ============== ==== ==== ======= ===== ====================\n",
            "\n",
            "    :Missing Attribute Values: None\n",
            "    :Class Distribution: 33.3% for each of 3 classes.\n",
            "    :Creator: R.A. Fisher\n",
            "    :Donor: Michael Marshall (MARSHALL%PLU@io.arc.nasa.gov)\n",
            "    :Date: July, 1988\n",
            "\n",
            "The famous Iris database, first used by Sir R.A. Fisher. The dataset is taken\n",
            "from Fisher's paper. Note that it's the same as in R, but not as in the UCI\n",
            "Machine Learning Repository, which has two wrong data points.\n",
            "\n",
            "This is perhaps the best known database to be found in the\n",
            "pattern recognition literature.  Fisher's paper is a classic in the field and\n",
            "is referenced frequently to this day.  (See Duda & Hart, for example.)  The\n",
            "data set contains 3 classes of 50 instances each, where each class refers to a\n",
            "type of iris plant.  One class is linearly separable from the other 2; the\n",
            "latter are NOT linearly separable from each other.\n",
            "\n",
            ".. topic:: References\n",
            "\n",
            "   - Fisher, R.A. \"The use of multiple measurements in taxonomic problems\"\n",
            "     Annual Eugenics, 7, Part II, 179-188 (1936); also in \"Contributions to\n",
            "     Mathematical Statistics\" (John Wiley, NY, 1950).\n",
            "   - Duda, R.O., & Hart, P.E. (1973) Pattern Classification and Scene Analysis.\n",
            "     (Q327.D83) John Wiley & Sons.  ISBN 0-471-22361-1.  See page 218.\n",
            "   - Dasarathy, B.V. (1980) \"Nosing Around the Neighborhood: A New System\n",
            "     Structure and Classification Rule for Recognition in Partially Exposed\n",
            "     Environments\".  IEEE Transactions on Pattern Analysis and Machine\n",
            "     Intelligence, Vol. PAMI-2, No. 1, 67-71.\n",
            "   - Gates, G.W. (1972) \"The Reduced Nearest Neighbor Rule\".  IEEE Transactions\n",
            "     on Information Theory, May 1972, 431-433.\n",
            "   - See also: 1988 MLC Proceedings, 54-64.  Cheeseman et al\"s AUTOCLASS II\n",
            "     conceptual clustering system finds 3 classes in the data.\n",
            "   - Many, many more ...\n"
          ]
        }
      ],
      "source": [
        "irisData = load_iris()\n",
        "x, y = irisData.data, irisData.target\n",
        "print(irisData.DESCR)"
      ]
    },
    {
      "cell_type": "code",
      "execution_count": 29,
      "metadata": {
        "id": "CRFA1cUQFH3I"
      },
      "outputs": [],
      "source": [
        "x_df=pd.DataFrame(data=x,columns=irisData.feature_names)\n",
        "y_df=pd.DataFrame(data=y,columns=[\"target\"])"
      ]
    },
    {
      "cell_type": "markdown",
      "source": [
        "# Boxplot"
      ],
      "metadata": {
        "id": "PGrsKTxmQT5m"
      }
    },
    {
      "cell_type": "code",
      "execution_count": 30,
      "metadata": {
        "colab": {
          "base_uri": "https://localhost:8080/",
          "height": 447
        },
        "id": "zFCMdAqSFH3J",
        "outputId": "b2440a2e-f294-423d-cec6-6822827e5130"
      },
      "outputs": [
        {
          "output_type": "execute_result",
          "data": {
            "text/plain": [
              "<Axes: >"
            ]
          },
          "metadata": {},
          "execution_count": 30
        },
        {
          "output_type": "display_data",
          "data": {
            "text/plain": [
              "<Figure size 640x480 with 1 Axes>"
            ],
            "image/png": "[encoded data removed]"
          },
          "metadata": {}
        }
      ],
      "source": [
        "import seaborn as sns\n",
        "sns.boxplot(data=x_df.iloc[:,:4])"
      ]
    },
    {
      "cell_type": "markdown",
      "source": [
        "# Accuracy using subset of the iris dataset"
      ],
      "metadata": {
        "id": "u71VSM-1QYvs"
      }
    },
    {
      "cell_type": "code",
      "source": [
        "accuracies = []\n",
        "\n",
        "for feature in irisData.feature_names:\n",
        "    # Select the features from the dataset\n",
        "    x_subset = x_df.drop([feature], axis=1)\n",
        "    \n",
        "    # Split the dataset into train and test sets\n",
        "    x_subset = StandardScaler().fit_transform(x_subset)\n",
        "    x_train, x_test, y_train, y_test = train_test_split(x_subset, y, test_size=0.2, random_state=42)\n",
        "    \n",
        "    # Create and train the Naive Bayes classifier\n",
        "    classifier = GaussianNB()\n",
        "    classifier.fit(x_train, y_train)\n",
        "    \n",
        "    # Make predictions on the test set\n",
        "    y_pred = classifier.predict(x_test)\n",
        "    \n",
        "    # Calculate accuracy and append to the list\n",
        "    accuracy = accuracy_score(y_test, y_pred)\n",
        "    accuracies.append(accuracy)\n",
        "\n",
        "# Visualize the comparison of accuracy using a bar plot\n",
        "import matplotlib.pyplot as plt\n",
        "\n",
        "plt.bar(range(len(irisData.feature_names)), accuracies)\n",
        "plt.xticks(range(len(irisData.feature_names)), irisData.feature_names)\n",
        "plt.xlabel('Feature Sets')\n",
        "plt.ylabel('Accuracy')\n",
        "plt.title('Accuracy Comparison of Naive Bayes Classifier')\n",
        "plt.show()"
      ],
      "metadata": {
        "colab": {
          "base_uri": "https://localhost:8080/",
          "height": 472
        },
        "id": "dl2-usroFq_B",
        "outputId": "24d8e2cd-542b-4411-8ed4-4b5e8960ea6b"
      },
      "execution_count": 32,
      "outputs": [
        {
          "output_type": "display_data",
          "data": {
            "text/plain": [
              "<Figure size 640x480 with 1 Axes>"
            ],
            "image/png": "[encoded data removed]"
          },
          "metadata": {}
        }
      ]
    },
    {
      "cell_type": "markdown",
      "source": [
        "# 3. Does removal of features improve accuracy? If yes, then how?  Give one practical application where removal of features might be required?"
      ],
      "metadata": {
        "id": "bezqjG6EQsC2"
      }
    },
    {
      "cell_type": "markdown",
      "source": [
        "### Answer:\n",
        "\n",
        "Yes removal of features improve accuracy.\n",
        "\n",
        "The removal of features can improve accuracy in some cases, especially when dealing with irrelevant or redundant features. By removing such features, the classifier can focus on the most informative ones, reducing the potential noise and overfitting.\n",
        "\n",
        "RealLife example: \n",
        "If we create the marksheet database there all information will not be required such as his/her library card details, blood group etc.\n",
        "In this case if we reduce that dimensions it will definately give some benifit."
      ],
      "metadata": {
        "id": "R6qJHxkMQy-E"
      }
    }
  ],
  "metadata": {
    "interpreter": {
      "hash": "48f2edc3205953217ede649613258eee76e5ed51b138be8ebb044f87332c9625"
    },
    "kernelspec": {
      "display_name": "Python 3.10.11 64-bit (windows store)",
      "language": "python",
      "name": "python3"
    },
    "language_info": {
      "codemirror_mode": {
        "name": "ipython",
        "version": 3
      },
      "file_extension": ".py",
      "mimetype": "text/x-python",
      "name": "python",
      "nbconvert_exporter": "python",
      "pygments_lexer": "ipython3",
      "version": "3.10.11"
    },
    "orig_nbformat": 4,
    "colab": {
      "provenance": []
    }
  },
  "nbformat": 4,
  "nbformat_minor": 0
}
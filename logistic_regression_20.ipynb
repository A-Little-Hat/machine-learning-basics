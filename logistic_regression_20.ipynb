{
  "cells": [
    {
      "cell_type": "markdown",
      "metadata": {
        "id": "kZZGs9zAz1TB"
      },
      "source": [
        "# Imports"
      ]
    },
    {
      "cell_type": "code",
      "execution_count": 1,
      "metadata": {
        "id": "_3Dx20_Ki8u0"
      },
      "outputs": [],
      "source": [
        "import numpy as np\n",
        "import pandas as pd\n",
        "from sklearn import datasets\n",
        "from sklearn.preprocessing import StandardScaler\n",
        "from sklearn.model_selection import train_test_split\n",
        "from sklearn.linear_model import LogisticRegression"
      ]
    },
    {
      "cell_type": "code",
      "execution_count": 2,
      "metadata": {
        "id": "X8iqRtUH19qs"
      },
      "outputs": [],
      "source": [
        "import warnings\n",
        "warnings.simplefilter(action=\"ignore\")"
      ]
    },
    {
      "cell_type": "code",
      "execution_count": 3,
      "metadata": {
        "id": "kpH5MSESjcCy"
      },
      "outputs": [],
      "source": [
        "iris = datasets.load_iris()\n",
        "# X = iris.data[:, :2]\n",
        "# y = iris.target"
      ]
    },
    {
      "cell_type": "code",
      "execution_count": 4,
      "metadata": {
        "colab": {
          "base_uri": "https://localhost:8080/",
          "height": 206
        },
        "id": "oKExYrVPjzJI",
        "outputId": "a6ebc0b4-fa7d-44a0-98ab-c3f07b02d0f3"
      },
      "outputs": [
        {
          "data": {
            "text/html": [
              "<div>\n",
              "<style scoped>\n",
              "    .dataframe tbody tr th:only-of-type {\n",
              "        vertical-align: middle;\n",
              "    }\n",
              "\n",
              "    .dataframe tbody tr th {\n",
              "        vertical-align: top;\n",
              "    }\n",
              "\n",
              "    .dataframe thead th {\n",
              "        text-align: right;\n",
              "    }\n",
              "</style>\n",
              "<table border=\"1\" class=\"dataframe\">\n",
              "  <thead>\n",
              "    <tr style=\"text-align: right;\">\n",
              "      <th></th>\n",
              "      <th>sepal length (cm)</th>\n",
              "      <th>sepal width (cm)</th>\n",
              "      <th>petal length (cm)</th>\n",
              "      <th>petal width (cm)</th>\n",
              "    </tr>\n",
              "  </thead>\n",
              "  <tbody>\n",
              "    <tr>\n",
              "      <th>115</th>\n",
              "      <td>6.4</td>\n",
              "      <td>3.2</td>\n",
              "      <td>5.3</td>\n",
              "      <td>2.3</td>\n",
              "    </tr>\n",
              "    <tr>\n",
              "      <th>122</th>\n",
              "      <td>7.7</td>\n",
              "      <td>2.8</td>\n",
              "      <td>6.7</td>\n",
              "      <td>2.0</td>\n",
              "    </tr>\n",
              "    <tr>\n",
              "      <th>68</th>\n",
              "      <td>6.2</td>\n",
              "      <td>2.2</td>\n",
              "      <td>4.5</td>\n",
              "      <td>1.5</td>\n",
              "    </tr>\n",
              "    <tr>\n",
              "      <th>74</th>\n",
              "      <td>6.4</td>\n",
              "      <td>2.9</td>\n",
              "      <td>4.3</td>\n",
              "      <td>1.3</td>\n",
              "    </tr>\n",
              "    <tr>\n",
              "      <th>14</th>\n",
              "      <td>5.8</td>\n",
              "      <td>4.0</td>\n",
              "      <td>1.2</td>\n",
              "      <td>0.2</td>\n",
              "    </tr>\n",
              "  </tbody>\n",
              "</table>\n",
              "</div>"
            ],
            "text/plain": [
              "     sepal length (cm)  sepal width (cm)  petal length (cm)  petal width (cm)\n",
              "115                6.4               3.2                5.3               2.3\n",
              "122                7.7               2.8                6.7               2.0\n",
              "68                 6.2               2.2                4.5               1.5\n",
              "74                 6.4               2.9                4.3               1.3\n",
              "14                 5.8               4.0                1.2               0.2"
            ]
          },
          "execution_count": 4,
          "metadata": {},
          "output_type": "execute_result"
        }
      ],
      "source": [
        "x=iris.data\n",
        "x=pd.DataFrame(data=x,columns=iris.feature_names)\n",
        "x.sample(5)"
      ]
    },
    {
      "cell_type": "code",
      "execution_count": 5,
      "metadata": {
        "colab": {
          "base_uri": "https://localhost:8080/",
          "height": 206
        },
        "id": "3i2nXUbij-zx",
        "outputId": "94ed50cc-1f8f-4c28-ae03-eb7e50241cd9"
      },
      "outputs": [
        {
          "data": {
            "text/html": [
              "<div>\n",
              "<style scoped>\n",
              "    .dataframe tbody tr th:only-of-type {\n",
              "        vertical-align: middle;\n",
              "    }\n",
              "\n",
              "    .dataframe tbody tr th {\n",
              "        vertical-align: top;\n",
              "    }\n",
              "\n",
              "    .dataframe thead th {\n",
              "        text-align: right;\n",
              "    }\n",
              "</style>\n",
              "<table border=\"1\" class=\"dataframe\">\n",
              "  <thead>\n",
              "    <tr style=\"text-align: right;\">\n",
              "      <th></th>\n",
              "      <th>label</th>\n",
              "    </tr>\n",
              "  </thead>\n",
              "  <tbody>\n",
              "    <tr>\n",
              "      <th>145</th>\n",
              "      <td>2</td>\n",
              "    </tr>\n",
              "    <tr>\n",
              "      <th>57</th>\n",
              "      <td>1</td>\n",
              "    </tr>\n",
              "    <tr>\n",
              "      <th>66</th>\n",
              "      <td>1</td>\n",
              "    </tr>\n",
              "    <tr>\n",
              "      <th>81</th>\n",
              "      <td>1</td>\n",
              "    </tr>\n",
              "    <tr>\n",
              "      <th>147</th>\n",
              "      <td>2</td>\n",
              "    </tr>\n",
              "  </tbody>\n",
              "</table>\n",
              "</div>"
            ],
            "text/plain": [
              "     label\n",
              "145      2\n",
              "57       1\n",
              "66       1\n",
              "81       1\n",
              "147      2"
            ]
          },
          "execution_count": 5,
          "metadata": {},
          "output_type": "execute_result"
        }
      ],
      "source": [
        "y=iris.target\n",
        "y=pd.DataFrame(data=y,columns=['label'])\n",
        "y.sample(5)"
      ]
    },
    {
      "cell_type": "markdown",
      "metadata": {
        "id": "RUoC-vCmz-9p"
      },
      "source": [
        "# Pre Processing"
      ]
    },
    {
      "cell_type": "code",
      "execution_count": 6,
      "metadata": {
        "colab": {
          "base_uri": "https://localhost:8080/",
          "height": 206
        },
        "id": "2t2O3D1nlviL",
        "outputId": "6c74e2c8-69d1-4e0b-c64b-6fea12d4187c"
      },
      "outputs": [
        {
          "data": {
            "text/html": [
              "<div>\n",
              "<style scoped>\n",
              "    .dataframe tbody tr th:only-of-type {\n",
              "        vertical-align: middle;\n",
              "    }\n",
              "\n",
              "    .dataframe tbody tr th {\n",
              "        vertical-align: top;\n",
              "    }\n",
              "\n",
              "    .dataframe thead th {\n",
              "        text-align: right;\n",
              "    }\n",
              "</style>\n",
              "<table border=\"1\" class=\"dataframe\">\n",
              "  <thead>\n",
              "    <tr style=\"text-align: right;\">\n",
              "      <th></th>\n",
              "      <th>0</th>\n",
              "      <th>1</th>\n",
              "      <th>2</th>\n",
              "      <th>3</th>\n",
              "    </tr>\n",
              "  </thead>\n",
              "  <tbody>\n",
              "    <tr>\n",
              "      <th>71</th>\n",
              "      <td>0.310998</td>\n",
              "      <td>-0.592373</td>\n",
              "      <td>0.137547</td>\n",
              "      <td>0.132510</td>\n",
              "    </tr>\n",
              "    <tr>\n",
              "      <th>122</th>\n",
              "      <td>2.249683</td>\n",
              "      <td>-0.592373</td>\n",
              "      <td>1.672157</td>\n",
              "      <td>1.053935</td>\n",
              "    </tr>\n",
              "    <tr>\n",
              "      <th>59</th>\n",
              "      <td>-0.779513</td>\n",
              "      <td>-0.822570</td>\n",
              "      <td>0.080709</td>\n",
              "      <td>0.264142</td>\n",
              "    </tr>\n",
              "    <tr>\n",
              "      <th>145</th>\n",
              "      <td>1.038005</td>\n",
              "      <td>-0.131979</td>\n",
              "      <td>0.819596</td>\n",
              "      <td>1.448832</td>\n",
              "    </tr>\n",
              "    <tr>\n",
              "      <th>75</th>\n",
              "      <td>0.916837</td>\n",
              "      <td>-0.131979</td>\n",
              "      <td>0.364896</td>\n",
              "      <td>0.264142</td>\n",
              "    </tr>\n",
              "  </tbody>\n",
              "</table>\n",
              "</div>"
            ],
            "text/plain": [
              "            0         1         2         3\n",
              "71   0.310998 -0.592373  0.137547  0.132510\n",
              "122  2.249683 -0.592373  1.672157  1.053935\n",
              "59  -0.779513 -0.822570  0.080709  0.264142\n",
              "145  1.038005 -0.131979  0.819596  1.448832\n",
              "75   0.916837 -0.131979  0.364896  0.264142"
            ]
          },
          "execution_count": 6,
          "metadata": {},
          "output_type": "execute_result"
        }
      ],
      "source": [
        "x_scaler=StandardScaler().fit_transform(x)\n",
        "x_scaler=pd.DataFrame(data=x_scaler)\n",
        "x_scaler.sample(5)"
      ]
    },
    {
      "cell_type": "code",
      "execution_count": 7,
      "metadata": {
        "id": "Vmc5v5epmCGQ"
      },
      "outputs": [],
      "source": [
        "x_train,x_test,y_train,y_test=train_test_split(x_scaler,y,test_size=0.3,random_state=42)"
      ]
    },
    {
      "cell_type": "code",
      "execution_count": 8,
      "metadata": {
        "id": "-U3JlLzFmb7w"
      },
      "outputs": [],
      "source": [
        "classifier=LogisticRegression(solver=\"liblinear\")\n",
        "model=classifier.fit(x_train,y_train)"
      ]
    },
    {
      "cell_type": "markdown",
      "metadata": {
        "id": "su4OoSog0byy"
      },
      "source": [
        "# Prediction"
      ]
    },
    {
      "cell_type": "code",
      "execution_count": 9,
      "metadata": {
        "id": "ueWerK-Pm7eG"
      },
      "outputs": [],
      "source": [
        "pred_y=model.predict(x_test)"
      ]
    },
    {
      "cell_type": "markdown",
      "metadata": {
        "id": "tQaJaK5w0hL3"
      },
      "source": [
        "# confusion_matrix, accuracy_score, roc_auc_score"
      ]
    },
    {
      "cell_type": "code",
      "execution_count": 10,
      "metadata": {
        "colab": {
          "base_uri": "https://localhost:8080/"
        },
        "id": "HOjzOuxNnDpp",
        "outputId": "ec366b23-9e57-4ba4-86ed-ff17367203e5"
      },
      "outputs": [
        {
          "data": {
            "text/plain": [
              "array([[19,  0,  0],\n",
              "       [ 0,  8,  5],\n",
              "       [ 0,  0, 13]], dtype=int64)"
            ]
          },
          "execution_count": 10,
          "metadata": {},
          "output_type": "execute_result"
        }
      ],
      "source": [
        "from sklearn.metrics import confusion_matrix, accuracy_score, roc_auc_score\n",
        "cm = confusion_matrix(y_test, pred_y)\n",
        "cm"
      ]
    },
    {
      "cell_type": "code",
      "execution_count": 11,
      "metadata": {
        "colab": {
          "base_uri": "https://localhost:8080/"
        },
        "id": "_Iwi-TDlnjQ_",
        "outputId": "33d09656-4173-4d1f-aa24-7d53074cff0d"
      },
      "outputs": [
        {
          "data": {
            "text/plain": [
              "0.8888888888888888"
            ]
          },
          "execution_count": 11,
          "metadata": {},
          "output_type": "execute_result"
        }
      ],
      "source": [
        "accuracy_score(y_test, pred_y)"
      ]
    },
    {
      "cell_type": "code",
      "execution_count": 12,
      "metadata": {
        "colab": {
          "base_uri": "https://localhost:8080/"
        },
        "id": "8EHXO4kq1WPs",
        "outputId": "2237540f-4bc3-4d12-b9d7-ea82a557ee6b"
      },
      "outputs": [
        {
          "data": {
            "text/plain": [
              "0.7920000000000001"
            ]
          },
          "execution_count": 12,
          "metadata": {},
          "output_type": "execute_result"
        }
      ],
      "source": [
        "roc_auc_score(y,model.predict_proba(x),multi_class='ovr')"
      ]
    },
    {
      "cell_type": "markdown",
      "metadata": {
        "id": "4mp4B1TV0olr"
      },
      "source": [
        "# Trying diff solver and diff seed value"
      ]
    },
    {
      "cell_type": "markdown",
      "metadata": {
        "id": "LYIBGuEW0w7s"
      },
      "source": [
        "# horizontal representation"
      ]
    },
    {
      "cell_type": "code",
      "execution_count": 13,
      "metadata": {
        "id": "O_YsL370pLM0"
      },
      "outputs": [],
      "source": [
        "solverSet=['lbfgs', 'liblinear', 'newton-cg', 'newton-cholesky', 'sag', 'saga']\n",
        "seedValue=[42,50,60,70]"
      ]
    },
    {
      "cell_type": "code",
      "execution_count": 14,
      "metadata": {
        "id": "XFEC_hmorMqJ"
      },
      "outputs": [],
      "source": [
        "task=dict()"
      ]
    },
    {
      "cell_type": "code",
      "execution_count": 15,
      "metadata": {
        "id": "1vOypH23p7g_"
      },
      "outputs": [],
      "source": [
        "count=0\n",
        "for i in seedValue:\n",
        "  x_train,x_test,y_train,y_test=train_test_split(x_scaler,y,test_size=0.3,random_state=i)\n",
        "  for j in solverSet:\n",
        "    classifier=LogisticRegression(solver=j)\n",
        "    model=classifier.fit(x_train,y_train)\n",
        "    pred_y=model.predict(x_test)\n",
        "    score=accuracy_score(y_test, pred_y)\n",
        "    task[count]={\n",
        "        'seedValue':i,\n",
        "        'solver':j,\n",
        "        'score':score\n",
        "    }\n",
        "    count+=1"
      ]
    },
    {
      "cell_type": "code",
      "execution_count": 16,
      "metadata": {
        "colab": {
          "base_uri": "https://localhost:8080/"
        },
        "id": "zstbluTlocQL",
        "outputId": "73ee0081-00b9-4b8d-bdd5-07c885905be8"
      },
      "outputs": [
        {
          "data": {
            "text/plain": [
              "{0: {'seedValue': 42, 'solver': 'lbfgs', 'score': 1.0},\n",
              " 1: {'seedValue': 42, 'solver': 'liblinear', 'score': 0.8888888888888888},\n",
              " 2: {'seedValue': 42, 'solver': 'newton-cg', 'score': 1.0},\n",
              " 3: {'seedValue': 42,\n",
              "  'solver': 'newton-cholesky',\n",
              "  'score': 0.9111111111111111},\n",
              " 4: {'seedValue': 42, 'solver': 'sag', 'score': 1.0},\n",
              " 5: {'seedValue': 42, 'solver': 'saga', 'score': 1.0},\n",
              " 6: {'seedValue': 50, 'solver': 'lbfgs', 'score': 0.9777777777777777},\n",
              " 7: {'seedValue': 50, 'solver': 'liblinear', 'score': 0.8666666666666667},\n",
              " 8: {'seedValue': 50, 'solver': 'newton-cg', 'score': 0.9777777777777777},\n",
              " 9: {'seedValue': 50,\n",
              "  'solver': 'newton-cholesky',\n",
              "  'score': 0.9111111111111111},\n",
              " 10: {'seedValue': 50, 'solver': 'sag', 'score': 0.9777777777777777},\n",
              " 11: {'seedValue': 50, 'solver': 'saga', 'score': 0.9777777777777777},\n",
              " 12: {'seedValue': 60, 'solver': 'lbfgs', 'score': 0.9111111111111111},\n",
              " 13: {'seedValue': 60, 'solver': 'liblinear', 'score': 0.8888888888888888},\n",
              " 14: {'seedValue': 60, 'solver': 'newton-cg', 'score': 0.9111111111111111},\n",
              " 15: {'seedValue': 60,\n",
              "  'solver': 'newton-cholesky',\n",
              "  'score': 0.8888888888888888},\n",
              " 16: {'seedValue': 60, 'solver': 'sag', 'score': 0.9111111111111111},\n",
              " 17: {'seedValue': 60, 'solver': 'saga', 'score': 0.9111111111111111},\n",
              " 18: {'seedValue': 70, 'solver': 'lbfgs', 'score': 1.0},\n",
              " 19: {'seedValue': 70, 'solver': 'liblinear', 'score': 0.9333333333333333},\n",
              " 20: {'seedValue': 70, 'solver': 'newton-cg', 'score': 1.0},\n",
              " 21: {'seedValue': 70,\n",
              "  'solver': 'newton-cholesky',\n",
              "  'score': 0.9555555555555556},\n",
              " 22: {'seedValue': 70, 'solver': 'sag', 'score': 1.0},\n",
              " 23: {'seedValue': 70, 'solver': 'saga', 'score': 1.0}}"
            ]
          },
          "execution_count": 16,
          "metadata": {},
          "output_type": "execute_result"
        }
      ],
      "source": [
        "task"
      ]
    },
    {
      "cell_type": "code",
      "execution_count": 17,
      "metadata": {
        "id": "r_icqc-LspqI"
      },
      "outputs": [],
      "source": [
        "task_df=pd.DataFrame(data=task)"
      ]
    },
    {
      "cell_type": "code",
      "execution_count": 18,
      "metadata": {
        "colab": {
          "base_uri": "https://localhost:8080/",
          "height": 254
        },
        "id": "AGfKmephtNG1",
        "outputId": "7ae52771-97f7-445c-a556-716f22c63dc2"
      },
      "outputs": [
        {
          "data": {
            "text/html": [
              "<div>\n",
              "<style scoped>\n",
              "    .dataframe tbody tr th:only-of-type {\n",
              "        vertical-align: middle;\n",
              "    }\n",
              "\n",
              "    .dataframe tbody tr th {\n",
              "        vertical-align: top;\n",
              "    }\n",
              "\n",
              "    .dataframe thead th {\n",
              "        text-align: right;\n",
              "    }\n",
              "</style>\n",
              "<table border=\"1\" class=\"dataframe\">\n",
              "  <thead>\n",
              "    <tr style=\"text-align: right;\">\n",
              "      <th></th>\n",
              "      <th>0</th>\n",
              "      <th>1</th>\n",
              "      <th>2</th>\n",
              "      <th>3</th>\n",
              "      <th>4</th>\n",
              "      <th>5</th>\n",
              "      <th>6</th>\n",
              "      <th>7</th>\n",
              "      <th>8</th>\n",
              "      <th>9</th>\n",
              "      <th>...</th>\n",
              "      <th>14</th>\n",
              "      <th>15</th>\n",
              "      <th>16</th>\n",
              "      <th>17</th>\n",
              "      <th>18</th>\n",
              "      <th>19</th>\n",
              "      <th>20</th>\n",
              "      <th>21</th>\n",
              "      <th>22</th>\n",
              "      <th>23</th>\n",
              "    </tr>\n",
              "  </thead>\n",
              "  <tbody>\n",
              "    <tr>\n",
              "      <th>seedValue</th>\n",
              "      <td>42</td>\n",
              "      <td>42</td>\n",
              "      <td>42</td>\n",
              "      <td>42</td>\n",
              "      <td>42</td>\n",
              "      <td>42</td>\n",
              "      <td>50</td>\n",
              "      <td>50</td>\n",
              "      <td>50</td>\n",
              "      <td>50</td>\n",
              "      <td>...</td>\n",
              "      <td>60</td>\n",
              "      <td>60</td>\n",
              "      <td>60</td>\n",
              "      <td>60</td>\n",
              "      <td>70</td>\n",
              "      <td>70</td>\n",
              "      <td>70</td>\n",
              "      <td>70</td>\n",
              "      <td>70</td>\n",
              "      <td>70</td>\n",
              "    </tr>\n",
              "    <tr>\n",
              "      <th>solver</th>\n",
              "      <td>lbfgs</td>\n",
              "      <td>liblinear</td>\n",
              "      <td>newton-cg</td>\n",
              "      <td>newton-cholesky</td>\n",
              "      <td>sag</td>\n",
              "      <td>saga</td>\n",
              "      <td>lbfgs</td>\n",
              "      <td>liblinear</td>\n",
              "      <td>newton-cg</td>\n",
              "      <td>newton-cholesky</td>\n",
              "      <td>...</td>\n",
              "      <td>newton-cg</td>\n",
              "      <td>newton-cholesky</td>\n",
              "      <td>sag</td>\n",
              "      <td>saga</td>\n",
              "      <td>lbfgs</td>\n",
              "      <td>liblinear</td>\n",
              "      <td>newton-cg</td>\n",
              "      <td>newton-cholesky</td>\n",
              "      <td>sag</td>\n",
              "      <td>saga</td>\n",
              "    </tr>\n",
              "    <tr>\n",
              "      <th>score</th>\n",
              "      <td>1.0</td>\n",
              "      <td>0.888889</td>\n",
              "      <td>1.0</td>\n",
              "      <td>0.911111</td>\n",
              "      <td>1.0</td>\n",
              "      <td>1.0</td>\n",
              "      <td>0.977778</td>\n",
              "      <td>0.866667</td>\n",
              "      <td>0.977778</td>\n",
              "      <td>0.911111</td>\n",
              "      <td>...</td>\n",
              "      <td>0.911111</td>\n",
              "      <td>0.888889</td>\n",
              "      <td>0.911111</td>\n",
              "      <td>0.911111</td>\n",
              "      <td>1.0</td>\n",
              "      <td>0.933333</td>\n",
              "      <td>1.0</td>\n",
              "      <td>0.955556</td>\n",
              "      <td>1.0</td>\n",
              "      <td>1.0</td>\n",
              "    </tr>\n",
              "  </tbody>\n",
              "</table>\n",
              "<p>3 rows × 24 columns</p>\n",
              "</div>"
            ],
            "text/plain": [
              "              0          1          2                3    4     5         6    \n",
              "seedValue     42         42         42               42   42    42        50  \\\n",
              "solver     lbfgs  liblinear  newton-cg  newton-cholesky  sag  saga     lbfgs   \n",
              "score        1.0   0.888889        1.0         0.911111  1.0   1.0  0.977778   \n",
              "\n",
              "                  7          8                9   ...         14   \n",
              "seedValue         50         50               50  ...         60  \\\n",
              "solver     liblinear  newton-cg  newton-cholesky  ...  newton-cg   \n",
              "score       0.866667   0.977778         0.911111  ...   0.911111   \n",
              "\n",
              "                        15        16        17     18         19         20   \n",
              "seedValue               60        60        60     70         70         70  \\\n",
              "solver     newton-cholesky       sag      saga  lbfgs  liblinear  newton-cg   \n",
              "score             0.888889  0.911111  0.911111    1.0   0.933333        1.0   \n",
              "\n",
              "                        21   22    23  \n",
              "seedValue               70   70    70  \n",
              "solver     newton-cholesky  sag  saga  \n",
              "score             0.955556  1.0   1.0  \n",
              "\n",
              "[3 rows x 24 columns]"
            ]
          },
          "execution_count": 18,
          "metadata": {},
          "output_type": "execute_result"
        }
      ],
      "source": [
        "task_df"
      ]
    },
    {
      "cell_type": "markdown",
      "metadata": {
        "id": "Iv2EKDH8042y"
      },
      "source": [
        "# vertical representation"
      ]
    },
    {
      "cell_type": "code",
      "execution_count": 19,
      "metadata": {
        "id": "Phky4ULrvRTs"
      },
      "outputs": [],
      "source": [
        "sd=[]\n",
        "sold=[]\n",
        "scd=[]"
      ]
    },
    {
      "cell_type": "code",
      "execution_count": 20,
      "metadata": {
        "id": "3v3aoMtFveQB"
      },
      "outputs": [],
      "source": [
        "count=0\n",
        "for i in seedValue:\n",
        "  x_train,x_test,y_train,y_test=train_test_split(x_scaler,y,test_size=0.3,random_state=i)\n",
        "  for j in solverSet:\n",
        "    classifier=LogisticRegression(solver=j)\n",
        "    model=classifier.fit(x_train,y_train)\n",
        "    pred_y=model.predict(x_test)\n",
        "    # score=accuracy_score(y_test, pred_y)\n",
        "    sd.append(i)\n",
        "    sold.append(j)\n",
        "    scd.append(accuracy_score(y_test, pred_y))"
      ]
    },
    {
      "cell_type": "code",
      "execution_count": 21,
      "metadata": {
        "id": "IUe3X8CVv1bM"
      },
      "outputs": [],
      "source": [
        "task2={\n",
        "    'seed Value':sd,\n",
        "    'solver Value':sold,\n",
        "    'accuracy score':scd\n",
        "}"
      ]
    },
    {
      "cell_type": "code",
      "execution_count": 22,
      "metadata": {
        "id": "_cdpORp7wOtP"
      },
      "outputs": [],
      "source": [
        "task2_df=pd.DataFrame(data=task2)"
      ]
    },
    {
      "cell_type": "code",
      "execution_count": 23,
      "metadata": {
        "colab": {
          "base_uri": "https://localhost:8080/",
          "height": 802
        },
        "id": "N8lAQSHNwZ9m",
        "outputId": "5660445e-4646-4baa-8768-2fc403674593"
      },
      "outputs": [
        {
          "data": {
            "text/html": [
              "<div>\n",
              "<style scoped>\n",
              "    .dataframe tbody tr th:only-of-type {\n",
              "        vertical-align: middle;\n",
              "    }\n",
              "\n",
              "    .dataframe tbody tr th {\n",
              "        vertical-align: top;\n",
              "    }\n",
              "\n",
              "    .dataframe thead th {\n",
              "        text-align: right;\n",
              "    }\n",
              "</style>\n",
              "<table border=\"1\" class=\"dataframe\">\n",
              "  <thead>\n",
              "    <tr style=\"text-align: right;\">\n",
              "      <th></th>\n",
              "      <th>seed Value</th>\n",
              "      <th>solver Value</th>\n",
              "      <th>accuracy score</th>\n",
              "    </tr>\n",
              "  </thead>\n",
              "  <tbody>\n",
              "    <tr>\n",
              "      <th>0</th>\n",
              "      <td>42</td>\n",
              "      <td>lbfgs</td>\n",
              "      <td>1.000000</td>\n",
              "    </tr>\n",
              "    <tr>\n",
              "      <th>1</th>\n",
              "      <td>42</td>\n",
              "      <td>liblinear</td>\n",
              "      <td>0.888889</td>\n",
              "    </tr>\n",
              "    <tr>\n",
              "      <th>2</th>\n",
              "      <td>42</td>\n",
              "      <td>newton-cg</td>\n",
              "      <td>1.000000</td>\n",
              "    </tr>\n",
              "    <tr>\n",
              "      <th>3</th>\n",
              "      <td>42</td>\n",
              "      <td>newton-cholesky</td>\n",
              "      <td>0.911111</td>\n",
              "    </tr>\n",
              "    <tr>\n",
              "      <th>4</th>\n",
              "      <td>42</td>\n",
              "      <td>sag</td>\n",
              "      <td>1.000000</td>\n",
              "    </tr>\n",
              "    <tr>\n",
              "      <th>5</th>\n",
              "      <td>42</td>\n",
              "      <td>saga</td>\n",
              "      <td>1.000000</td>\n",
              "    </tr>\n",
              "    <tr>\n",
              "      <th>6</th>\n",
              "      <td>50</td>\n",
              "      <td>lbfgs</td>\n",
              "      <td>0.977778</td>\n",
              "    </tr>\n",
              "    <tr>\n",
              "      <th>7</th>\n",
              "      <td>50</td>\n",
              "      <td>liblinear</td>\n",
              "      <td>0.866667</td>\n",
              "    </tr>\n",
              "    <tr>\n",
              "      <th>8</th>\n",
              "      <td>50</td>\n",
              "      <td>newton-cg</td>\n",
              "      <td>0.977778</td>\n",
              "    </tr>\n",
              "    <tr>\n",
              "      <th>9</th>\n",
              "      <td>50</td>\n",
              "      <td>newton-cholesky</td>\n",
              "      <td>0.911111</td>\n",
              "    </tr>\n",
              "    <tr>\n",
              "      <th>10</th>\n",
              "      <td>50</td>\n",
              "      <td>sag</td>\n",
              "      <td>0.977778</td>\n",
              "    </tr>\n",
              "    <tr>\n",
              "      <th>11</th>\n",
              "      <td>50</td>\n",
              "      <td>saga</td>\n",
              "      <td>0.977778</td>\n",
              "    </tr>\n",
              "    <tr>\n",
              "      <th>12</th>\n",
              "      <td>60</td>\n",
              "      <td>lbfgs</td>\n",
              "      <td>0.911111</td>\n",
              "    </tr>\n",
              "    <tr>\n",
              "      <th>13</th>\n",
              "      <td>60</td>\n",
              "      <td>liblinear</td>\n",
              "      <td>0.888889</td>\n",
              "    </tr>\n",
              "    <tr>\n",
              "      <th>14</th>\n",
              "      <td>60</td>\n",
              "      <td>newton-cg</td>\n",
              "      <td>0.911111</td>\n",
              "    </tr>\n",
              "    <tr>\n",
              "      <th>15</th>\n",
              "      <td>60</td>\n",
              "      <td>newton-cholesky</td>\n",
              "      <td>0.888889</td>\n",
              "    </tr>\n",
              "    <tr>\n",
              "      <th>16</th>\n",
              "      <td>60</td>\n",
              "      <td>sag</td>\n",
              "      <td>0.911111</td>\n",
              "    </tr>\n",
              "    <tr>\n",
              "      <th>17</th>\n",
              "      <td>60</td>\n",
              "      <td>saga</td>\n",
              "      <td>0.911111</td>\n",
              "    </tr>\n",
              "    <tr>\n",
              "      <th>18</th>\n",
              "      <td>70</td>\n",
              "      <td>lbfgs</td>\n",
              "      <td>1.000000</td>\n",
              "    </tr>\n",
              "    <tr>\n",
              "      <th>19</th>\n",
              "      <td>70</td>\n",
              "      <td>liblinear</td>\n",
              "      <td>0.933333</td>\n",
              "    </tr>\n",
              "    <tr>\n",
              "      <th>20</th>\n",
              "      <td>70</td>\n",
              "      <td>newton-cg</td>\n",
              "      <td>1.000000</td>\n",
              "    </tr>\n",
              "    <tr>\n",
              "      <th>21</th>\n",
              "      <td>70</td>\n",
              "      <td>newton-cholesky</td>\n",
              "      <td>0.955556</td>\n",
              "    </tr>\n",
              "    <tr>\n",
              "      <th>22</th>\n",
              "      <td>70</td>\n",
              "      <td>sag</td>\n",
              "      <td>1.000000</td>\n",
              "    </tr>\n",
              "    <tr>\n",
              "      <th>23</th>\n",
              "      <td>70</td>\n",
              "      <td>saga</td>\n",
              "      <td>1.000000</td>\n",
              "    </tr>\n",
              "  </tbody>\n",
              "</table>\n",
              "</div>"
            ],
            "text/plain": [
              "    seed Value     solver Value  accuracy score\n",
              "0           42            lbfgs        1.000000\n",
              "1           42        liblinear        0.888889\n",
              "2           42        newton-cg        1.000000\n",
              "3           42  newton-cholesky        0.911111\n",
              "4           42              sag        1.000000\n",
              "5           42             saga        1.000000\n",
              "6           50            lbfgs        0.977778\n",
              "7           50        liblinear        0.866667\n",
              "8           50        newton-cg        0.977778\n",
              "9           50  newton-cholesky        0.911111\n",
              "10          50              sag        0.977778\n",
              "11          50             saga        0.977778\n",
              "12          60            lbfgs        0.911111\n",
              "13          60        liblinear        0.888889\n",
              "14          60        newton-cg        0.911111\n",
              "15          60  newton-cholesky        0.888889\n",
              "16          60              sag        0.911111\n",
              "17          60             saga        0.911111\n",
              "18          70            lbfgs        1.000000\n",
              "19          70        liblinear        0.933333\n",
              "20          70        newton-cg        1.000000\n",
              "21          70  newton-cholesky        0.955556\n",
              "22          70              sag        1.000000\n",
              "23          70             saga        1.000000"
            ]
          },
          "execution_count": 23,
          "metadata": {},
          "output_type": "execute_result"
        }
      ],
      "source": [
        "task2_df"
      ]
    },
    {
      "cell_type": "markdown",
      "metadata": {
        "id": "JEOAPWn51F0u"
      },
      "source": [
        "# classification report"
      ]
    },
    {
      "cell_type": "code",
      "execution_count": 24,
      "metadata": {
        "id": "vKVY7jrDyzyY"
      },
      "outputs": [],
      "source": [
        "from sklearn.metrics import classification_report"
      ]
    },
    {
      "cell_type": "code",
      "execution_count": 25,
      "metadata": {
        "colab": {
          "base_uri": "https://localhost:8080/"
        },
        "id": "2enbk8RMy3w1",
        "outputId": "5c4fc8ab-8136-4286-abea-c55dd679cdbe"
      },
      "outputs": [
        {
          "name": "stdout",
          "output_type": "stream",
          "text": [
            "              precision    recall  f1-score   support\n",
            "\n",
            "           0       1.00      1.00      1.00        16\n",
            "           1       1.00      1.00      1.00        16\n",
            "           2       1.00      1.00      1.00        13\n",
            "\n",
            "    accuracy                           1.00        45\n",
            "   macro avg       1.00      1.00      1.00        45\n",
            "weighted avg       1.00      1.00      1.00        45\n",
            "\n"
          ]
        }
      ],
      "source": [
        "print(classification_report(y_test, pred_y))"
      ]
    }
  ],
  "metadata": {
    "colab": {
      "provenance": []
    },
    "kernelspec": {
      "display_name": "Python 3",
      "name": "python3"
    },
    "language_info": {
      "codemirror_mode": {
        "name": "ipython",
        "version": 3
      },
      "file_extension": ".py",
      "mimetype": "text/x-python",
      "name": "python",
      "nbconvert_exporter": "python",
      "pygments_lexer": "ipython3",
      "version": "3.10.11"
    }
  },
  "nbformat": 4,
  "nbformat_minor": 0
}
